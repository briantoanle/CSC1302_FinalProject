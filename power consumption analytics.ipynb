{
 "cells": [
  {
   "cell_type": "code",
   "execution_count": 20,
   "id": "7f30b288",
   "metadata": {},
   "outputs": [],
   "source": [
    "import pandas as pd\n",
    "import matplotlib.pyplot as plt\n",
    "import matplotlib as mpl\n",
    "\n",
    "\n",
    "# raw collection of your choice (300 data points and 5 features aka 300 rows and 3 columns)\n",
    "# source: https://archive.ics.uci.edu/ml/machine-learning-databases/00616/\n",
    "\n",
    "#2.1 read in the data\n",
    "# we are only using the first 1000 lines of data\n",
    "tetuan = pd.read_csv('Tetuan City power consumption.csv',nrows = 5000)\\\n",
    "\n",
    "#2.2 clean data, drop empty rows\n",
    "tetuan = tetuan.dropna()\n"
   ]
  },
  {
   "cell_type": "code",
   "execution_count": 21,
   "id": "ca8436fe",
   "metadata": {},
   "outputs": [
    {
     "name": "stdout",
     "output_type": "stream",
     "text": [
      "            DateTime  Temperature  Humidity  Wind Speed  \\\n",
      "0      1/1/2017 0:00        6.559     73.80       0.083   \n",
      "1      1/1/2017 0:10        6.414     74.50       0.083   \n",
      "2      1/1/2017 0:20        6.313     74.50       0.080   \n",
      "3      1/1/2017 0:30        6.121     75.00       0.083   \n",
      "4      1/1/2017 0:40        5.921     75.70       0.081   \n",
      "...              ...          ...       ...         ...   \n",
      "4995  2/4/2017 16:30       11.390     52.35       0.083   \n",
      "4996  2/4/2017 16:40       11.430     51.38       0.086   \n",
      "4997  2/4/2017 16:50       11.800     51.15       0.086   \n",
      "4998  2/4/2017 17:00       11.900     51.42       0.087   \n",
      "4999  2/4/2017 17:10       11.890     52.88       0.083   \n",
      "\n",
      "      general diffuse flows  diffuse flows  Zone 1 Power Consumption  \\\n",
      "0                     0.051          0.119               34055.69620   \n",
      "1                     0.070          0.085               29814.68354   \n",
      "2                     0.062          0.100               29128.10127   \n",
      "3                     0.091          0.096               28228.86076   \n",
      "4                     0.048          0.085               27335.69620   \n",
      "...                     ...            ...                       ...   \n",
      "4995                118.800        128.100               31094.23729   \n",
      "4996                161.000        177.400               30868.47458   \n",
      "4997                281.600        324.100               31533.55932   \n",
      "4998                262.600        304.200               31326.10169   \n",
      "4999                237.200        280.400               31362.71186   \n",
      "\n",
      "      Zone 2  Power Consumption  Zone 3  Power Consumption  \n",
      "0                   16128.87538                20240.96386  \n",
      "1                   19375.07599                20131.08434  \n",
      "2                   19006.68693                19668.43373  \n",
      "3                   18361.09422                18899.27711  \n",
      "4                   17872.34043                18442.40964  \n",
      "...                         ...                        ...  \n",
      "4995                17613.37386                16504.28141  \n",
      "4996                17533.13070                16498.49246  \n",
      "4997                17409.11854                16677.94975  \n",
      "4998                17518.54103                16926.87437  \n",
      "4999                17792.09726                17274.21106  \n",
      "\n",
      "[5000 rows x 9 columns]\n"
     ]
    }
   ],
   "source": [
    "print(tetuan)"
   ]
  }
 ],
 "metadata": {
  "kernelspec": {
   "display_name": "Python 3 (ipykernel)",
   "language": "python",
   "name": "python3"
  },
  "language_info": {
   "codemirror_mode": {
    "name": "ipython",
    "version": 3
   },
   "file_extension": ".py",
   "mimetype": "text/x-python",
   "name": "python",
   "nbconvert_exporter": "python",
   "pygments_lexer": "ipython3",
   "version": "3.9.12"
  }
 },
 "nbformat": 4,
 "nbformat_minor": 5
}
